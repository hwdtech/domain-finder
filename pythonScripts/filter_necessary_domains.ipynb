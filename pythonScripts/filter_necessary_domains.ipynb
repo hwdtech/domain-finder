{
 "cells": [
  {
   "cell_type": "code",
   "execution_count": 7,
   "metadata": {
    "collapsed": true
   },
   "outputs": [],
   "source": [
    "import pandas as pd\n",
    "import numpy as np"
   ]
  },
  {
   "cell_type": "code",
   "execution_count": 8,
   "metadata": {
    "collapsed": true
   },
   "outputs": [],
   "source": [
    "twoLetterDomains = pd.read_csv('nodeApps/commonResults/2symbol/FreeDomains_2_symbols_beforeFiltering',low_memory=False)\n",
    "shortWords = pd.read_table('nodeApps/sortWords.txt',sep='\\n',header=None)"
   ]
  },
  {
   "cell_type": "code",
   "execution_count": 9,
   "metadata": {},
   "outputs": [
    {
     "data": {
      "text/html": [
       "<div>\n",
       "<style>\n",
       "    .dataframe thead tr:only-child th {\n",
       "        text-align: right;\n",
       "    }\n",
       "\n",
       "    .dataframe thead th {\n",
       "        text-align: left;\n",
       "    }\n",
       "\n",
       "    .dataframe tbody tr th {\n",
       "        vertical-align: top;\n",
       "    }\n",
       "</style>\n",
       "<table border=\"1\" class=\"dataframe\">\n",
       "  <thead>\n",
       "    <tr style=\"text-align: right;\">\n",
       "      <th></th>\n",
       "      <th>id</th>\n",
       "      <th>sldLength</th>\n",
       "      <th>tld</th>\n",
       "      <th>domain</th>\n",
       "      <th>price</th>\n",
       "      <th>roublePrice</th>\n",
       "      <th>available</th>\n",
       "      <th>definitive</th>\n",
       "    </tr>\n",
       "  </thead>\n",
       "  <tbody>\n",
       "    <tr>\n",
       "      <th>0</th>\n",
       "      <td>1</td>\n",
       "      <td>1</td>\n",
       "      <td>actor</td>\n",
       "      <td>1.actor</td>\n",
       "      <td>20000</td>\n",
       "      <td>1199520</td>\n",
       "      <td>True</td>\n",
       "      <td>True</td>\n",
       "    </tr>\n",
       "    <tr>\n",
       "      <th>1</th>\n",
       "      <td>2</td>\n",
       "      <td>1</td>\n",
       "      <td>airforce</td>\n",
       "      <td>1.airforce</td>\n",
       "      <td>14000</td>\n",
       "      <td>839664</td>\n",
       "      <td>True</td>\n",
       "      <td>True</td>\n",
       "    </tr>\n",
       "    <tr>\n",
       "      <th>2</th>\n",
       "      <td>3</td>\n",
       "      <td>1</td>\n",
       "      <td>army</td>\n",
       "      <td>1.army</td>\n",
       "      <td>14000</td>\n",
       "      <td>839664</td>\n",
       "      <td>True</td>\n",
       "      <td>True</td>\n",
       "    </tr>\n",
       "    <tr>\n",
       "      <th>3</th>\n",
       "      <td>4</td>\n",
       "      <td>1</td>\n",
       "      <td>bingo</td>\n",
       "      <td>1.bingo</td>\n",
       "      <td>800</td>\n",
       "      <td>47981</td>\n",
       "      <td>True</td>\n",
       "      <td>True</td>\n",
       "    </tr>\n",
       "    <tr>\n",
       "      <th>4</th>\n",
       "      <td>5</td>\n",
       "      <td>1</td>\n",
       "      <td>builders</td>\n",
       "      <td>1.builders</td>\n",
       "      <td>800</td>\n",
       "      <td>47981</td>\n",
       "      <td>True</td>\n",
       "      <td>True</td>\n",
       "    </tr>\n",
       "  </tbody>\n",
       "</table>\n",
       "</div>"
      ],
      "text/plain": [
       "   id  sldLength       tld      domain  price roublePrice  available  \\\n",
       "0   1          1     actor     1.actor  20000     1199520       True   \n",
       "1   2          1  airforce  1.airforce  14000      839664       True   \n",
       "2   3          1      army      1.army  14000      839664       True   \n",
       "3   4          1     bingo     1.bingo    800       47981       True   \n",
       "4   5          1  builders  1.builders    800       47981       True   \n",
       "\n",
       "   definitive  \n",
       "0        True  \n",
       "1        True  \n",
       "2        True  \n",
       "3        True  \n",
       "4        True  "
      ]
     },
     "execution_count": 9,
     "metadata": {},
     "output_type": "execute_result"
    }
   ],
   "source": [
    "twoLetterDomains.head()"
   ]
  },
  {
   "cell_type": "code",
   "execution_count": 13,
   "metadata": {
    "collapsed": true
   },
   "outputs": [],
   "source": [
    "shortWordsArray = shortWords[0].as_matrix().tolist()\n",
    "letter_3_words = list(filter(lambda x: len(x)==1 or len(x)==2, shortWordsArray))"
   ]
  },
  {
   "cell_type": "code",
   "execution_count": 14,
   "metadata": {
    "collapsed": true
   },
   "outputs": [],
   "source": [
    "domainsInList = twoLetterDomains[twoLetterDomains.apply(lambda x: x['domain'][0:x['domain'].index('.')] in(letter_3_words), axis=1)]"
   ]
  },
  {
   "cell_type": "code",
   "execution_count": 15,
   "metadata": {
    "collapsed": true
   },
   "outputs": [],
   "source": [
    "# domainsInListWithDefinitiveTrue = twoLetterDomains[twoLetterDomains\n",
    "#                                                    .apply(lambda x: x['domain'][0:x['domain'].index('.')] \n",
    "#                                                           in(letter_3_words) and x['definitive']==True, axis=1)]"
   ]
  },
  {
   "cell_type": "code",
   "execution_count": 16,
   "metadata": {
    "collapsed": true
   },
   "outputs": [],
   "source": [
    "domainsInList.to_csv('./nodeApps/commonResults/2symbol/FreeDomains_2_symbols_afterFiltering', index =False)\n",
    "\n",
    "# domainsInListWithDefinitiveTrue.to_csv('./nodeApps/all_3_DomainsWithRequestedCombinationsAndDefinitiveTrue',index=False)"
   ]
  },
  {
   "cell_type": "code",
   "execution_count": null,
   "metadata": {
    "collapsed": true
   },
   "outputs": [],
   "source": []
  }
 ],
 "metadata": {
  "kernelspec": {
   "display_name": "Python 3",
   "language": "python",
   "name": "python3"
  },
  "language_info": {
   "codemirror_mode": {
    "name": "ipython",
    "version": 3
   },
   "file_extension": ".py",
   "mimetype": "text/x-python",
   "name": "python",
   "nbconvert_exporter": "python",
   "pygments_lexer": "ipython3",
   "version": "3.6.1"
  }
 },
 "nbformat": 4,
 "nbformat_minor": 2
}
