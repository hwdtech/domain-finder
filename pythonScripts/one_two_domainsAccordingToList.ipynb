{
 "cells": [
  {
   "cell_type": "code",
   "execution_count": 32,
   "metadata": {
    "collapsed": true
   },
   "outputs": [],
   "source": [
    "import pandas as pd\n",
    "import numpy as np"
   ]
  },
  {
   "cell_type": "code",
   "execution_count": null,
   "metadata": {
    "collapsed": true
   },
   "outputs": [],
   "source": [
    "twoLetterDomains = pd.read_csv('nodeApps/twoLetterDomainsDanil1407_Day',low_memory=False)"
   ]
  },
  {
   "cell_type": "code",
   "execution_count": 14,
   "metadata": {},
   "outputs": [],
   "source": [
    "shortWords = pd.read_table('nodeApps/sortWords.txt',sep='\\n',header=None)"
   ]
  },
  {
   "cell_type": "code",
   "execution_count": 41,
   "metadata": {},
   "outputs": [],
   "source": [
    "shortWordsArray = shortWords[0].as_matrix().tolist()"
   ]
  },
  {
   "cell_type": "code",
   "execution_count": null,
   "metadata": {
    "collapsed": true
   },
   "outputs": [],
   "source": [
    "one_two_words = list(filter(lambda x: len(x)==1 or len(x)==2, shortWordsArray))"
   ]
  },
  {
   "cell_type": "code",
   "execution_count": 72,
   "metadata": {},
   "outputs": [],
   "source": [
    "domainsInList = twoLetterDomains[twoLetterDomains.apply(lambda x: x['domain'][0:x['domain'].index('.')] in(one_two_words), axis=1)]"
   ]
  },
  {
   "cell_type": "code",
   "execution_count": 70,
   "metadata": {},
   "outputs": [],
   "source": [
    "domainsInListWithDefinitiveTrue = twoLetterDomains[twoLetterDomains\n",
    "                                                   .apply(lambda x: x['domain'][0:x['domain'].index('.')] \n",
    "                                                          in(one_two_words) and x['definitive']==True, axis=1)]"
   ]
  },
  {
   "cell_type": "code",
   "execution_count": 76,
   "metadata": {},
   "outputs": [],
   "source": [
    "domainsInList.to_csv('./nodeApps/all_1-2_DomainsWithRequestedCombinations', index =False)"
   ]
  },
  {
   "cell_type": "code",
   "execution_count": 77,
   "metadata": {
    "collapsed": true
   },
   "outputs": [],
   "source": [
    "domainsInListWithDefinitiveTrue.to_csv('./nodeApps/all_1-2_DomainsWithRequestedCombinationsAndDefinitiveTrue',index=False)"
   ]
  },
  {
   "cell_type": "code",
   "execution_count": 78,
   "metadata": {
    "collapsed": true
   },
   "outputs": [],
   "source": [
    "domainsWithDefinitiveTrue = twoLetterDomains[twoLetterDomains\n",
    "                                                   .apply(lambda x: x['definitive']==True, axis=1)]"
   ]
  },
  {
   "cell_type": "code",
   "execution_count": 80,
   "metadata": {},
   "outputs": [],
   "source": [
    "domainsWithDefinitiveTrue.to_csv('./nodeApps/all_1-2_DomainsWithDefinitiveTrue', index =False)"
   ]
  },
  {
   "cell_type": "code",
   "execution_count": null,
   "metadata": {
    "collapsed": true
   },
   "outputs": [],
   "source": []
  }
 ],
 "metadata": {
  "kernelspec": {
   "display_name": "Python 3",
   "language": "python",
   "name": "python3"
  },
  "language_info": {
   "codemirror_mode": {
    "name": "ipython",
    "version": 3
   },
   "file_extension": ".py",
   "mimetype": "text/x-python",
   "name": "python",
   "nbconvert_exporter": "python",
   "pygments_lexer": "ipython3",
   "version": "3.6.1"
  }
 },
 "nbformat": 4,
 "nbformat_minor": 2
}
