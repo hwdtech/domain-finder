{
 "cells": [
  {
   "cell_type": "code",
   "execution_count": 21,
   "metadata": {},
   "outputs": [],
   "source": [
    "import pandas as pd\n",
    "import numpy as np\n",
    "import requests\n",
    "import json\n",
    "\n",
    "twoLetterDomains = pd.read_csv('nodeApps/commonResults/2symbol/FreeDomains_2_symbols_beforeFiltering', low_memory = False)"
   ]
  },
  {
   "cell_type": "code",
   "execution_count": 22,
   "metadata": {
    "collapsed": true
   },
   "outputs": [],
   "source": [
    "def getTypeOfTld(row):\n",
    "    return myDict.get(row['tld'])"
   ]
  },
  {
   "cell_type": "markdown",
   "metadata": {},
   "source": [
    "## Get some randomized domains to check via UI on godaddy"
   ]
  },
  {
   "cell_type": "code",
   "execution_count": 23,
   "metadata": {},
   "outputs": [
    {
     "name": "stdout",
     "output_type": "stream",
     "text": [
      "['yu.christmas']\n",
      "['r1.auto']\n",
      "['vm.holdings']\n",
      "['o7.yoga']\n",
      "['vw.tax']\n",
      "['ew.domains']\n",
      "['fv.surf']\n",
      "['bg.bingo']\n",
      "['7n.gives']\n",
      "['an.pub']\n",
      "['g6.productions']\n",
      "['t0.rent']\n",
      "['wz.reisen']\n",
      "['nk.taxi']\n",
      "['l1.fashion']\n",
      "['f8.restaurant']\n",
      "['tx.computer']\n",
      "['dm.tienda']\n",
      "['lw.industries']\n",
      "['rn.solar']\n",
      "['mn.watch']\n",
      "['av.cleaning']\n",
      "['ev.tienda']\n",
      "['vz.cleaning']\n",
      "['hf.blackfriday']\n",
      "['lx.pink']\n",
      "['zx.apartments']\n",
      "['wz.forsale']\n",
      "['yd.fishing']\n",
      "['yv.delivery']\n"
     ]
    }
   ],
   "source": [
    "for i in range(0,30):\n",
    "    print(twoLetterDomains.sample()['domain'].as_matrix().tolist())"
   ]
  },
  {
   "cell_type": "code",
   "execution_count": 24,
   "metadata": {
    "collapsed": true
   },
   "outputs": [],
   "source": [
    "headers = {'Authorization': 'sso-key 2s7YtNpHjf_WyEyVKJJmAxCdxKq4u2xgt:WyF2XttkN1DQVCKWCRH5nk'}\n",
    "r = requests.get(\"https://api.ote-godaddy.com/v1/domains/tlds\", headers = headers)\n",
    "js = json.loads(r.text)\n",
    "myDict = {}\n",
    "for item in js:\n",
    "    myDict[item['name']] = item['type']"
   ]
  },
  {
   "cell_type": "code",
   "execution_count": 25,
   "metadata": {
    "collapsed": true
   },
   "outputs": [],
   "source": [
    "twoLetterDomains['tldType'] =  twoLetterDomains.apply (lambda row: getTypeOfTld (row),axis=1)"
   ]
  },
  {
   "cell_type": "code",
   "execution_count": 26,
   "metadata": {},
   "outputs": [
    {
     "data": {
      "text/html": [
       "<div>\n",
       "<style>\n",
       "    .dataframe thead tr:only-child th {\n",
       "        text-align: right;\n",
       "    }\n",
       "\n",
       "    .dataframe thead th {\n",
       "        text-align: left;\n",
       "    }\n",
       "\n",
       "    .dataframe tbody tr th {\n",
       "        vertical-align: top;\n",
       "    }\n",
       "</style>\n",
       "<table border=\"1\" class=\"dataframe\">\n",
       "  <thead>\n",
       "    <tr style=\"text-align: right;\">\n",
       "      <th></th>\n",
       "      <th>id</th>\n",
       "      <th>sldLength</th>\n",
       "      <th>tld</th>\n",
       "      <th>domain</th>\n",
       "      <th>price</th>\n",
       "      <th>roublePrice</th>\n",
       "      <th>available</th>\n",
       "      <th>definitive</th>\n",
       "      <th>tldType</th>\n",
       "    </tr>\n",
       "  </thead>\n",
       "  <tbody>\n",
       "    <tr>\n",
       "      <th>0</th>\n",
       "      <td>1</td>\n",
       "      <td>1</td>\n",
       "      <td>actor</td>\n",
       "      <td>1.actor</td>\n",
       "      <td>20000</td>\n",
       "      <td>1199520</td>\n",
       "      <td>True</td>\n",
       "      <td>True</td>\n",
       "      <td>GENERIC</td>\n",
       "    </tr>\n",
       "    <tr>\n",
       "      <th>1</th>\n",
       "      <td>2</td>\n",
       "      <td>1</td>\n",
       "      <td>airforce</td>\n",
       "      <td>1.airforce</td>\n",
       "      <td>14000</td>\n",
       "      <td>839664</td>\n",
       "      <td>True</td>\n",
       "      <td>True</td>\n",
       "      <td>GENERIC</td>\n",
       "    </tr>\n",
       "    <tr>\n",
       "      <th>2</th>\n",
       "      <td>3</td>\n",
       "      <td>1</td>\n",
       "      <td>army</td>\n",
       "      <td>1.army</td>\n",
       "      <td>14000</td>\n",
       "      <td>839664</td>\n",
       "      <td>True</td>\n",
       "      <td>True</td>\n",
       "      <td>GENERIC</td>\n",
       "    </tr>\n",
       "    <tr>\n",
       "      <th>3</th>\n",
       "      <td>4</td>\n",
       "      <td>1</td>\n",
       "      <td>bingo</td>\n",
       "      <td>1.bingo</td>\n",
       "      <td>800</td>\n",
       "      <td>47981</td>\n",
       "      <td>True</td>\n",
       "      <td>True</td>\n",
       "      <td>GENERIC</td>\n",
       "    </tr>\n",
       "    <tr>\n",
       "      <th>4</th>\n",
       "      <td>5</td>\n",
       "      <td>1</td>\n",
       "      <td>builders</td>\n",
       "      <td>1.builders</td>\n",
       "      <td>800</td>\n",
       "      <td>47981</td>\n",
       "      <td>True</td>\n",
       "      <td>True</td>\n",
       "      <td>GENERIC</td>\n",
       "    </tr>\n",
       "  </tbody>\n",
       "</table>\n",
       "</div>"
      ],
      "text/plain": [
       "   id  sldLength       tld      domain  price roublePrice  available  \\\n",
       "0   1          1     actor     1.actor  20000     1199520       True   \n",
       "1   2          1  airforce  1.airforce  14000      839664       True   \n",
       "2   3          1      army      1.army  14000      839664       True   \n",
       "3   4          1     bingo     1.bingo    800       47981       True   \n",
       "4   5          1  builders  1.builders    800       47981       True   \n",
       "\n",
       "   definitive  tldType  \n",
       "0        True  GENERIC  \n",
       "1        True  GENERIC  \n",
       "2        True  GENERIC  \n",
       "3        True  GENERIC  \n",
       "4        True  GENERIC  "
      ]
     },
     "execution_count": 26,
     "metadata": {},
     "output_type": "execute_result"
    }
   ],
   "source": [
    "twoLetterDomains.head()"
   ]
  },
  {
   "cell_type": "code",
   "execution_count": 28,
   "metadata": {},
   "outputs": [
    {
     "data": {
      "text/html": [
       "<div>\n",
       "<style>\n",
       "    .dataframe thead tr:only-child th {\n",
       "        text-align: right;\n",
       "    }\n",
       "\n",
       "    .dataframe thead th {\n",
       "        text-align: left;\n",
       "    }\n",
       "\n",
       "    .dataframe tbody tr th {\n",
       "        vertical-align: top;\n",
       "    }\n",
       "</style>\n",
       "<table border=\"1\" class=\"dataframe\">\n",
       "  <thead>\n",
       "    <tr style=\"text-align: right;\">\n",
       "      <th></th>\n",
       "      <th>id</th>\n",
       "      <th>sldLength</th>\n",
       "      <th>tld</th>\n",
       "      <th>domain</th>\n",
       "      <th>price</th>\n",
       "      <th>roublePrice</th>\n",
       "      <th>available</th>\n",
       "      <th>definitive</th>\n",
       "      <th>tldType</th>\n",
       "    </tr>\n",
       "  </thead>\n",
       "  <tbody>\n",
       "    <tr>\n",
       "      <th>6279</th>\n",
       "      <td>10176</td>\n",
       "      <td>2</td>\n",
       "      <td>cz</td>\n",
       "      <td>1g.cz</td>\n",
       "      <td>20</td>\n",
       "      <td>1200</td>\n",
       "      <td>True</td>\n",
       "      <td>True</td>\n",
       "      <td>COUNTRY_CODE</td>\n",
       "    </tr>\n",
       "    <tr>\n",
       "      <th>17348</th>\n",
       "      <td>49260</td>\n",
       "      <td>2</td>\n",
       "      <td>cz</td>\n",
       "      <td>4t.cz</td>\n",
       "      <td>20</td>\n",
       "      <td>1200</td>\n",
       "      <td>True</td>\n",
       "      <td>True</td>\n",
       "      <td>COUNTRY_CODE</td>\n",
       "    </tr>\n",
       "    <tr>\n",
       "      <th>25231</th>\n",
       "      <td>86186</td>\n",
       "      <td>2</td>\n",
       "      <td>cz</td>\n",
       "      <td>7y.cz</td>\n",
       "      <td>20</td>\n",
       "      <td>1200</td>\n",
       "      <td>True</td>\n",
       "      <td>True</td>\n",
       "      <td>COUNTRY_CODE</td>\n",
       "    </tr>\n",
       "    <tr>\n",
       "      <th>83653</th>\n",
       "      <td>248203</td>\n",
       "      <td>2</td>\n",
       "      <td>cz</td>\n",
       "      <td>mg.cz</td>\n",
       "      <td>20</td>\n",
       "      <td>1200</td>\n",
       "      <td>True</td>\n",
       "      <td>True</td>\n",
       "      <td>COUNTRY_CODE</td>\n",
       "    </tr>\n",
       "  </tbody>\n",
       "</table>\n",
       "</div>"
      ],
      "text/plain": [
       "           id  sldLength tld domain price roublePrice  available  definitive  \\\n",
       "6279    10176          2  cz  1g.cz    20        1200       True        True   \n",
       "17348   49260          2  cz  4t.cz    20        1200       True        True   \n",
       "25231   86186          2  cz  7y.cz    20        1200       True        True   \n",
       "83653  248203          2  cz  mg.cz    20        1200       True        True   \n",
       "\n",
       "            tldType  \n",
       "6279   COUNTRY_CODE  \n",
       "17348  COUNTRY_CODE  \n",
       "25231  COUNTRY_CODE  \n",
       "83653  COUNTRY_CODE  "
      ]
     },
     "execution_count": 28,
     "metadata": {},
     "output_type": "execute_result"
    }
   ],
   "source": [
    "twoLetterDomains[twoLetterDomains['tldType']!='GENERIC']"
   ]
  },
  {
   "cell_type": "markdown",
   "metadata": {},
   "source": [
    "## Select file to save dataset with additional column"
   ]
  },
  {
   "cell_type": "code",
   "execution_count": 29,
   "metadata": {
    "collapsed": true
   },
   "outputs": [],
   "source": [
    "twoLetterDomains.to_csv('nodeApps/commonResults/2symbol/all_FreeDomains_2_symbols', index = False)"
   ]
  },
  {
   "cell_type": "code",
   "execution_count": 30,
   "metadata": {},
   "outputs": [
    {
     "data": {
      "text/plain": [
       "(133470, 9)"
      ]
     },
     "execution_count": 30,
     "metadata": {},
     "output_type": "execute_result"
    }
   ],
   "source": [
    "twoLetterDomains.shape"
   ]
  },
  {
   "cell_type": "markdown",
   "metadata": {},
   "source": [
    "## Select file to save dataset with only country_codes "
   ]
  },
  {
   "cell_type": "code",
   "execution_count": 19,
   "metadata": {
    "collapsed": true
   },
   "outputs": [],
   "source": [
    "twoLetterDomains[twoLetterDomains['tldType'] != 'GENERIC'].to_csv('./nodeApps/FreeDomains_filtered_only_countryCodes_with_tldType', index =False)"
   ]
  },
  {
   "cell_type": "code",
   "execution_count": null,
   "metadata": {
    "collapsed": true
   },
   "outputs": [],
   "source": []
  }
 ],
 "metadata": {
  "kernelspec": {
   "display_name": "Python 3",
   "language": "python",
   "name": "python3"
  },
  "language_info": {
   "codemirror_mode": {
    "name": "ipython",
    "version": 3
   },
   "file_extension": ".py",
   "mimetype": "text/x-python",
   "name": "python",
   "nbconvert_exporter": "python",
   "pygments_lexer": "ipython3",
   "version": "3.6.1"
  }
 },
 "nbformat": 4,
 "nbformat_minor": 2
}
